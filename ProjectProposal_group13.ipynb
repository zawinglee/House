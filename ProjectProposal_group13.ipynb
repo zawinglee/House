{
 "cells": [
  {
   "cell_type": "markdown",
   "metadata": {},
   "source": [
    "# COGS 108 - Final Project Proposal"
   ]
  },
  {
   "cell_type": "markdown",
   "metadata": {},
   "source": [
    "# Names\n",
    "\n",
    "- Chang Gao\n",
    "- Zerong Li\n",
    "- Qing Liu\n",
    "- Shuli Zhu"
   ]
  },
  {
   "cell_type": "markdown",
   "metadata": {},
   "source": [
    "# Group Members IDs\n",
    "\n",
    "- A14970944\n",
    "- A15689664\n",
    "- A14552313\n",
    "- A14483407"
   ]
  },
  {
   "cell_type": "markdown",
   "metadata": {},
   "source": [
    "# Research Question"
   ]
  },
  {
   "cell_type": "markdown",
   "metadata": {},
   "source": [
    "How do characteristics of the neighbourhood affect the listing prices of Airbnb in San Francisco?\n"
   ]
  },
  {
   "cell_type": "markdown",
   "metadata": {},
   "source": [
    "## Background and Prior Work"
   ]
  },
  {
   "cell_type": "markdown",
   "metadata": {},
   "source": [
    "* Why is this question of interest to your group?\n",
    "Airbnb is a platform where house owners offer their house for lodgings and homestays. Nowadays, it is becoming a more popular choice of staying in other cities for short periods of time. The listing price of Airbnb is an important factor for both owners and visitors. For owners, one thing they need to consider is how the profit they get from airbnb, which is directly related to the listing price, compares to the actual value of their apartment. This may affect their decision of whether or not to run their apartment as an airbnb. Another thing they will consider is how many other airbnbs are running nearby. The competition around a certain area may also have an impact on the listing price they decide. On the other hand, for visitors, they will take into account both the price of the offered apartment and the nearby available public transportations so that they can pick the right location to stay and get the best traveling experience. As can be seen, the listing price and certain characteristics of the surrounding neighborhood (including local home prices, nearby airbnb density, and nearby transit options) will often impact the decisions of owners and visitors. Therefore, we decided to study whether there is a relationship between these two factors. Our group members had experiences staying in airbnbs instead of hotels when travelling to another city. In particular, we stayed in airbnbs when travelling to San Francisco because of the high price of hotels and the unique features the houses from airbnbs possess. As a result, we decided to look at the listing price of airbnb in San Francisco for our project. \n",
    " \n",
    "* What background information led you to your hypothesis?\n",
    "Previous study has reported the price heat map of Airbnbs in San Francisco[1]. It can be seen from the map that certain areas have higher price while others have lower price. This shows that geographical location has an impact on listing prices of Airbnb. To further investigate the characteristics of these geographical locations, we’ve found that the area with higher price overlaps with the area with more public transportation facilities and more available airbnb houses (based on the San Francisco transportation map and Airbnb map)[3][4]. As a result, we propose that there is a positive correlation between the listing price of airbnb and the two factors listed above, namely the accessibility of nearby public transportation and the densities of nearby listing airbnbs. We also assume that different areas likely have different house prices in general. Therefore, the nearby home price is also likely to have an impact on the listing price of an airbnb. \n",
    " \n",
    "* Why is this important?\n",
    "These questions are important because they lead us to better understand how the facilities and market competition of the neighborhoods affect the listing price of Airbnb. Moreover, the results also serve as a reference for house owners to better decide whether they would like to set their house as Airbnb and what price they should set, and for visitors to better choose where they should stay. \n",
    " \n",
    "* What has already been done on this topic? What is already known?\n",
    "Previous related work has shown that proximity to public transit leads to higher property value and rental price [2]. Airbnb can be seen as one kind of short renting. This further motivates us to see if the findings can be applied to the case of Airbnb prices. \n",
    " \n",
    "Some useful articles about background:\n",
    "1. How proximity to public transit affects home values:\n",
    "https://www.constructiondive.com/news/how-proximity-to-public-transit-affects-home-values/446533/\n",
    "2. When Airbnb Listings in a City Increase, So Do Rent Prices\n",
    "https://hbr.org/2019/04/research-when-airbnb-listings-in-a-city-increase-so-do-rent-prices\n",
    "3. EDA & price prediction in SF & NY https://arxiv.org/pdf/1805.12101.pdf\n",
    "4. Airbnb Density\n",
    "https://www.ftc.gov/system/files/documents/public_comments/2015/05/01166-96023.pdf\n",
    "\n",
    "References (include links):\n",
    "1) EDA & price prediction in SF & NY:https://arxiv.org/abs/1805.12101\n",
    "2) How proximity to public transit affects home values: https://www.constructiondive.com/news/how-proximity-to-public-transit-affects-home-values/446533/\n",
    "3) Airbnb listings in San Francisco\n",
    "https://www.airbnb.com/s/San-Francisco--CA--United-States/homes?tab_id=all_tab&refinement_paths%5B%5D=%2Fhomes&query=San%20Francisco%2C%20CA&place_id=ChIJIQBpAG2ahYAR_6128GcTUEo&source=structured_search_input_header&search_type=search_query\n",
    "4) Muni system map in San Francisco\n",
    "https://www.sfmta.com/getting-around/muni/routes-stops\n",
    "\n"
   ]
  },
  {
   "cell_type": "markdown",
   "metadata": {},
   "source": [
    "# Hypothesis\n"
   ]
  },
  {
   "cell_type": "markdown",
   "metadata": {},
   "source": [
    "We hypothesize that house prices, density of nearby Airbnb listings, and accessibility of public transportations might be highly correlated with the listing prices of Airbnb in San Francisco. \n",
    "\n",
    "From the background research and visualization, we have already found some direct and indirect relationships between these three factors and the listing prices of Airbnb. We would like to investigate how they are correlated in the area of San Francisco, with various and more rigorous analytical approaches.\n"
   ]
  },
  {
   "cell_type": "markdown",
   "metadata": {},
   "source": [
    "# Data"
   ]
  },
  {
   "cell_type": "markdown",
   "metadata": {},
   "source": [
    "*Explain what the ideal dataset you would want to answer this question. (This should include: What variables? How many observations? Who/what/how would these data be collected? How would these data be stored/organized?)*\n",
    "\n",
    "- Dataset Name: Inside Airbnb (San Francisco Area) on April 07, 2020\n",
    "- Link to the dataset: http://insideairbnb.com/get-the-data.html, listings.csv.gz\n",
    "- Format: .csv\n",
    "- Number of observations: 8139, Number of variables: 106\n",
    "- variables: (There are lots of variables that I could not just copy&paste here) but we are likely to use the id, description, neighborhood, room_type, price, accommodates, bathrooms, beds.\n",
    "- Description: The dataset contains each Airbnb Stays in detail. The dataset includes information such as the name, the description, where it is located, transit accessibility, the room type and number of bedrooms and the price of listings and more!\n",
    " \n",
    " \n",
    " \n",
    "- Data Name: Inside Airbnb (San Francisco Area) on April 07, 2020\n",
    "- Link to the dataset:  http://insideairbnb.com/get-the-data.html, calendar.csv.gz\n",
    "- Format: .csv\n",
    "- Variables: listing_id\tdate, available, price, adjusted_price, minimum_nights, maximum_nights\n",
    "\n",
    "- Number of observations: 1048576, Number of variables: 7\n",
    "- Description: The dataset contains the price vs. time for each Airbnb Stays.\n",
    " \n",
    " \n",
    " \n",
    " \n",
    "- Dataset Name: San Francisco Market Overview Data through Mar 31, 2020\n",
    "- Link to the dataset: https://www.zillow.com/san-francisco-ca/home-values/\n",
    "- Number of observations: 112, Number of variables: 49\n",
    "- Will only use 4 variables: Region Name, Region Type, Type, Current\n",
    "- Description: In this dataset, data is categorized by neighborhood and we are going to use the “Zillow Home Value Index” as the representation of the market value in the neighborhood. “Zillow Home Value Index”: “The Zillow Home Value Index (ZHVI), built from the ground up by measuring monthly changes in property-level Zestimates, captures both the level and appreciation of home values across a wide variety of geographies and housing types (e.g. all 1-bedroom condominiums in ZIP Code 98101). https://www.zillow.com/research/zhvi-methodology-2019-highlights-26221/”\n"
   ]
  },
  {
   "cell_type": "markdown",
   "metadata": {},
   "source": [
    "# Ethics & Privacy"
   ]
  },
  {
   "cell_type": "markdown",
   "metadata": {},
   "source": [
    "We would like to ensure our project sticks to ethics and privacy norms, considering possible ethics and privacy issues that might arise.\n",
    " \n",
    "Data collection:\n",
    "The greatest majority of our data are collected from Inside Airbnb, which provide datasets that contain comprehensive Airbnb information based on cities. On the website, it clearly states that all these data displayed are sourced from the Airbnb site which is available to the public. Therefore, there will be no privacy concern for analyzing these open data. To prevent violation of data privacy, we also check on the terms of use of other two data sites and ensure we have the permission to utilize them for further analysis purposes.\n",
    " \n",
    "Data analysis\n",
    "In addition, we managed to limit personally identifiable information exposure. We noticed that data such as: host ID, host name and location, in our dataset reveals a great deal of Airbnb host’s personal information. This could cause privacy issues if being misused to track on the host. Moreover, there is a possibility that these data are inaccurate due to misspelling or lack of updating. Since our objectives have nothing to deal with the location and name of the host, therefore we would like to drop “host_id”, “host_url”, “host_name” “host_location” columns from our datasets.\n",
    "\n",
    "Potential use of our analysis\n",
    "\n",
    "There are some parties that might be interested in our analysis. It could be potential customers who intend to book an Airbnb in San Francisco or new hosts who are planning to start running his or her own Airbnb. Our concern is that our analysis conclusion may negatively affect hosts’ business survival or customers’ benefits. For instance, suppose one of our findings illustrates the strong correlation between the density of listings and listing prices, some hosts who set relatively high prices among Airbnb intensive neighborhoods may have to lower their price in order to remain competitive, even though their houses have above-average cost of maintenance. This could put threats on their business survival. On the other hand, hosts who realized there are fewer competitors in their neighborhood may set their price especially high which could harm customers’ benefits. Therefore, since we only investigate the relationship between several factors of our interests and the listing price, to minimize the possible negative consequence, we will make it clear that the correlations we justified are but are not the only variables that contribute to the discrepancy in Airbnb price in San Francisco. There are still other significant factors that would affect the listing price.\n"
   ]
  },
  {
   "cell_type": "markdown",
   "metadata": {},
   "source": [
    "# Team Expectations "
   ]
  },
  {
   "cell_type": "markdown",
   "metadata": {},
   "source": [
    "* Hold Zoom meeting weekly to solve problems and challenges we have.\n",
    "* Discuss and communicate ideas mainly in Wechat Group.\n",
    "* Show up on time in every group meeting and actively engage in group discussions.\n",
    "* The dataset we will be working on should be discussed and agreed in the group.\n",
    "* In terms of coding, we will push our least changes to our github repo and everyone should have their own tasks to do.\n",
    "* If any members need help, we will share screen on Zoom and look at the code together.\n",
    "* Follow the project timeline and complete the assignments before each due date.\n",
    "* Be honest and respectful to every group member.\n"
   ]
  },
  {
   "cell_type": "markdown",
   "metadata": {},
   "source": [
    "# Project Timeline Proposal"
   ]
  },
  {
   "cell_type": "markdown",
   "metadata": {},
   "source": [
    "| Meeting Date  | Meeting Time| Completed Before Meeting  | Discuss at Meeting |\n",
    "|---|---|---|---|\n",
    "| 4/21  |  6 PM | Background researching; brainstorm topics/questions  | Determine the project topic; discuss hypothesis; begin background research and look for datasets | \n",
    "| 4/23  |  8 PM |  Do background research on topic and find all references | Discuss ideal datasets and ethics; complete team expectations and agreements; write a draft of proposal | \n",
    "| 4/24  | 8 PM  | Revise, proofread, and submit the project proposal  | Discuss possible analytical approaches. Assign tasks to each group member on specific part of EDA |\n",
    "| 4/28  | 8 PM  | Import & Wrangle Data (Zerong); EDA (All members) | Discuss the data cleaning process; deal with missingness; assign tasks to each group members on specific part of EDA |\n",
    "| 5/5 | 8 PM  | EDA (All members) | Share ideas and challenges on EDA; review/Edit wrangling/EDA; Assign tasks to each group member on specific part of Analysis |\n",
    "| 5/12  | 8 PM  | Finalize wrangling/EDA (Chang); Begin Analysis (All members) | Share ideas and challenges on Analysis; Go through the logics of the analysis and make improvements |\n",
    "| 5/19 | 8 PM  | Work on analysis (All members) | Check progress of each member; Improve visualization part |\n",
    "| 5/26 | 8 PM | Complete analysis; Draft, results/conclusion/discussion (Qing; Chang; Shuli) | Go through the logics of the whole project |\n",
    "| 6/2  | 8 PM  | Finalize the conclusion/discussion part(Zerong); | Look for small improvement; check completeness of all elements needed for the project |\n",
    "| 6/10  | Before 11:59 PM  | Proofread(Shuli) | Turn in Final Project & Group Project Surveys |"
   ]
  },
  {
   "cell_type": "code",
   "execution_count": null,
   "metadata": {},
   "outputs": [],
   "source": []
  }
 ],
 "metadata": {
  "kernelspec": {
   "display_name": "Python 3",
   "language": "python",
   "name": "python3"
  },
  "language_info": {
   "codemirror_mode": {
    "name": "ipython",
    "version": 3
   },
   "file_extension": ".py",
   "mimetype": "text/x-python",
   "name": "python",
   "nbconvert_exporter": "python",
   "pygments_lexer": "ipython3",
   "version": "3.7.3"
  }
 },
 "nbformat": 4,
 "nbformat_minor": 2
}
